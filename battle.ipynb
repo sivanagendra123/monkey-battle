#number of monkeys n=5
n=5
#process it by with other monkeys
l=[100,50,25,5,100]
defet=0
man=1
for i in len(l):# checking for defete th battle
   for j in len(l):
       defet+=1
if (injures <max_injure and health >0):# checking for man heath
   man=1
else
   man=0
      
